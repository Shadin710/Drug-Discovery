{
  "nbformat": 4,
  "nbformat_minor": 2,
  "metadata": {
    "colab": {
      "name": "Welcome To Colaboratory",
      "provenance": [],
      "collapsed_sections": []
    },
    "kernelspec": {
      "display_name": "Python 3",
      "name": "python3"
    }
  },
  "cells": [
    {
      "cell_type": "code",
      "execution_count": 1,
      "source": [
        "from keras.models import Sequential\n",
        "from keras.layers import Convolution2D\n",
        "from keras.layers import MaxPooling2D\n",
        "from keras.layers import Flatten\n",
        "from keras.layers import Dense\n"
      ],
      "outputs": [],
      "metadata": {
        "id": "_esxe72zMBlO"
      }
    },
    {
      "cell_type": "code",
      "execution_count": 3,
      "source": [
        "\n",
        "classifier = Sequential()\n",
        "\n",
        "classifier.add(Convolution2D(32,3,3,input_shape = (64,64,1), activation = 'relu')) "
      ],
      "outputs": [],
      "metadata": {
        "id": "E1h5GM_NMFG8"
      }
    },
    {
      "cell_type": "code",
      "execution_count": 4,
      "source": [
        "classifier.add(MaxPooling2D(pool_size=(2,2)))"
      ],
      "outputs": [],
      "metadata": {
        "id": "Trnl-XnAaSuW"
      }
    },
    {
      "cell_type": "code",
      "execution_count": 5,
      "source": [
        "classifier.add(Flatten())"
      ],
      "outputs": [],
      "metadata": {
        "id": "3pfgaZhfbJnc"
      }
    },
    {
      "cell_type": "code",
      "execution_count": 8,
      "source": [
        "classifier.add(Dense(128, activation='relu'))\n",
        "classifier.add(Dense(1, activation='sigmoid'))"
      ],
      "outputs": [],
      "metadata": {
        "id": "yt6UotyZvTtG"
      }
    },
    {
      "cell_type": "code",
      "execution_count": 9,
      "source": [
        "classifier.compile(optimizer = 'adam', loss = 'binary_crossentropy', metrics = ['accuracy'])"
      ],
      "outputs": [],
      "metadata": {
        "id": "hxvoM9N0wYvT"
      }
    },
    {
      "cell_type": "code",
      "execution_count": 10,
      "source": [
        "from keras.preprocessing.image import ImageDataGenerator"
      ],
      "outputs": [],
      "metadata": {
        "id": "Ff4mCaZEw18-"
      }
    },
    {
      "cell_type": "code",
      "execution_count": 11,
      "source": [
        "train_datagen = ImageDataGenerator(\n",
        "        rescale=1./255,\n",
        "        shear_range=0.2,\n",
        "        zoom_range=0.2,\n",
        "        horizontal_flip=True)"
      ],
      "outputs": [],
      "metadata": {
        "id": "fGDvFTvRw5Xo"
      }
    },
    {
      "cell_type": "code",
      "execution_count": 12,
      "source": [
        "test_datagen = ImageDataGenerator(rescale=1./255)"
      ],
      "outputs": [],
      "metadata": {
        "id": "E4ed8fr5w9si"
      }
    },
    {
      "cell_type": "code",
      "execution_count": 23,
      "source": [
        "training_set = train_datagen.flow_from_directory(\n",
        "        'images',  # this is the target directory\n",
        "        target_size=(64, 64),  # all images will be resized to 150x150\n",
        "        batch_size=32,\n",
        "        class_mode='binary')  # since we use binary_crossentropy loss, we need binary labels\n",
        "\n"
      ],
      "outputs": [
        {
          "output_type": "stream",
          "name": "stdout",
          "text": [
            "Found 891 images belonging to 2 classes.\n"
          ]
        }
      ],
      "metadata": {
        "colab": {
          "base_uri": "https://localhost:8080/"
        },
        "id": "h7_sjzZzxCAJ",
        "outputId": "e0d9a0c4-1020-4560-cacd-32cb5b48b759"
      }
    },
    {
      "cell_type": "code",
      "execution_count": 24,
      "source": [
        "test_set = test_datagen.flow_from_directory(\n",
        "        'image2',\n",
        "        target_size=(64, 64),\n",
        "        batch_size=32,\n",
        "        class_mode='binary')"
      ],
      "outputs": [
        {
          "output_type": "stream",
          "name": "stdout",
          "text": [
            "Found 212 images belonging to 2 classes.\n"
          ]
        }
      ],
      "metadata": {
        "colab": {
          "base_uri": "https://localhost:8080/"
        },
        "id": "DrAHyJrzy6p-",
        "outputId": "197c589b-b989-4fe4-cbef-9a02e9399a9d"
      }
    },
    {
      "cell_type": "code",
      "execution_count": null,
      "source": [],
      "outputs": [],
      "metadata": {}
    }
  ]
}